{
 "cells": [
  {
   "cell_type": "markdown",
   "metadata": {},
   "source": [
    "# Prerequisite"
   ]
  },
  {
   "cell_type": "code",
   "execution_count": 35,
   "metadata": {},
   "outputs": [],
   "source": [
    "import numpy as np\n",
    "import pandas as pd\n",
    "from sklearn import preprocessing\n",
    "import seaborn as sns\n",
    "import matplotlib.pyplot as plt\n",
    "\n",
    "from sklearn.model_selection import train_test_split\n",
    "from sklearn.model_selection import cross_val_score\n",
    "from sklearn.model_selection import KFold\n",
    "from sklearn.model_selection import GridSearchCV\n",
    "from sklearn.pipeline import Pipeline\n",
    "from sklearn.preprocessing import StandardScaler\n",
    "from sklearn.metrics import mean_squared_error\n",
    "\n",
    "from sklearn.linear_model import LinearRegression\n",
    "from sklearn.linear_model import Lasso\n",
    "from sklearn.linear_model import ElasticNet\n",
    "from sklearn.tree import DecisionTreeRegressor\n",
    "from sklearn.ensemble import GradientBoostingRegressor\n",
    "from sklearn.ensemble import RandomForestRegressor"
   ]
  },
  {
   "cell_type": "markdown",
   "metadata": {},
   "source": [
    "# Load datasets into dataframe"
   ]
  },
  {
   "cell_type": "code",
   "execution_count": 2,
   "metadata": {},
   "outputs": [],
   "source": [
    "data = pd.read_csv('Supermarket.csv')"
   ]
  },
  {
   "cell_type": "markdown",
   "metadata": {},
   "source": [
    "# First things first, getting insight of data"
   ]
  },
  {
   "cell_type": "code",
   "execution_count": 3,
   "metadata": {},
   "outputs": [
    {
     "data": {
      "text/html": [
       "<div>\n",
       "<style scoped>\n",
       "    .dataframe tbody tr th:only-of-type {\n",
       "        vertical-align: middle;\n",
       "    }\n",
       "\n",
       "    .dataframe tbody tr th {\n",
       "        vertical-align: top;\n",
       "    }\n",
       "\n",
       "    .dataframe thead th {\n",
       "        text-align: right;\n",
       "    }\n",
       "</style>\n",
       "<table border=\"1\" class=\"dataframe\">\n",
       "  <thead>\n",
       "    <tr style=\"text-align: right;\">\n",
       "      <th></th>\n",
       "      <th>StoreID</th>\n",
       "      <th>DeptID</th>\n",
       "      <th>Sales</th>\n",
       "      <th>Holiday</th>\n",
       "      <th>Temperature</th>\n",
       "      <th>Fuel</th>\n",
       "      <th>CPI</th>\n",
       "      <th>Unemployment</th>\n",
       "      <th>Type</th>\n",
       "      <th>Size</th>\n",
       "    </tr>\n",
       "  </thead>\n",
       "  <tbody>\n",
       "    <tr>\n",
       "      <th>0</th>\n",
       "      <td>9</td>\n",
       "      <td>42</td>\n",
       "      <td>3687.22</td>\n",
       "      <td>0</td>\n",
       "      <td>63.96</td>\n",
       "      <td>3.372</td>\n",
       "      <td>221.315956</td>\n",
       "      <td>6.054</td>\n",
       "      <td>B</td>\n",
       "      <td>125833</td>\n",
       "    </tr>\n",
       "    <tr>\n",
       "      <th>1</th>\n",
       "      <td>2</td>\n",
       "      <td>33</td>\n",
       "      <td>16810.49</td>\n",
       "      <td>0</td>\n",
       "      <td>88.70</td>\n",
       "      <td>2.664</td>\n",
       "      <td>211.259659</td>\n",
       "      <td>8.099</td>\n",
       "      <td>A</td>\n",
       "      <td>202307</td>\n",
       "    </tr>\n",
       "    <tr>\n",
       "      <th>2</th>\n",
       "      <td>40</td>\n",
       "      <td>51</td>\n",
       "      <td>4.16</td>\n",
       "      <td>0</td>\n",
       "      <td>67.45</td>\n",
       "      <td>3.898</td>\n",
       "      <td>135.963935</td>\n",
       "      <td>4.584</td>\n",
       "      <td>A</td>\n",
       "      <td>155083</td>\n",
       "    </tr>\n",
       "    <tr>\n",
       "      <th>3</th>\n",
       "      <td>34</td>\n",
       "      <td>42</td>\n",
       "      <td>4940.41</td>\n",
       "      <td>0</td>\n",
       "      <td>73.80</td>\n",
       "      <td>2.640</td>\n",
       "      <td>126.085452</td>\n",
       "      <td>9.816</td>\n",
       "      <td>A</td>\n",
       "      <td>158114</td>\n",
       "    </tr>\n",
       "    <tr>\n",
       "      <th>4</th>\n",
       "      <td>4</td>\n",
       "      <td>48</td>\n",
       "      <td>3834.00</td>\n",
       "      <td>0</td>\n",
       "      <td>68.97</td>\n",
       "      <td>3.721</td>\n",
       "      <td>131.010333</td>\n",
       "      <td>4.077</td>\n",
       "      <td>A</td>\n",
       "      <td>205863</td>\n",
       "    </tr>\n",
       "  </tbody>\n",
       "</table>\n",
       "</div>"
      ],
      "text/plain": [
       "   StoreID  DeptID     Sales  Holiday  Temperature   Fuel         CPI  \\\n",
       "0        9      42   3687.22        0        63.96  3.372  221.315956   \n",
       "1        2      33  16810.49        0        88.70  2.664  211.259659   \n",
       "2       40      51      4.16        0        67.45  3.898  135.963935   \n",
       "3       34      42   4940.41        0        73.80  2.640  126.085452   \n",
       "4        4      48   3834.00        0        68.97  3.721  131.010333   \n",
       "\n",
       "   Unemployment Type    Size  \n",
       "0         6.054    B  125833  \n",
       "1         8.099    A  202307  \n",
       "2         4.584    A  155083  \n",
       "3         9.816    A  158114  \n",
       "4         4.077    A  205863  "
      ]
     },
     "execution_count": 3,
     "metadata": {},
     "output_type": "execute_result"
    }
   ],
   "source": [
    "data.head()"
   ]
  },
  {
   "cell_type": "code",
   "execution_count": 4,
   "metadata": {},
   "outputs": [
    {
     "data": {
      "text/html": [
       "<div>\n",
       "<style scoped>\n",
       "    .dataframe tbody tr th:only-of-type {\n",
       "        vertical-align: middle;\n",
       "    }\n",
       "\n",
       "    .dataframe tbody tr th {\n",
       "        vertical-align: top;\n",
       "    }\n",
       "\n",
       "    .dataframe thead th {\n",
       "        text-align: right;\n",
       "    }\n",
       "</style>\n",
       "<table border=\"1\" class=\"dataframe\">\n",
       "  <thead>\n",
       "    <tr style=\"text-align: right;\">\n",
       "      <th></th>\n",
       "      <th>StoreID</th>\n",
       "      <th>DeptID</th>\n",
       "      <th>Sales</th>\n",
       "      <th>Holiday</th>\n",
       "      <th>Temperature</th>\n",
       "      <th>Fuel</th>\n",
       "      <th>CPI</th>\n",
       "      <th>Unemployment</th>\n",
       "      <th>Type</th>\n",
       "      <th>Size</th>\n",
       "    </tr>\n",
       "  </thead>\n",
       "  <tbody>\n",
       "    <tr>\n",
       "      <th>339495</th>\n",
       "      <td>34</td>\n",
       "      <td>94</td>\n",
       "      <td>32266.45</td>\n",
       "      <td>0</td>\n",
       "      <td>72.87</td>\n",
       "      <td>2.621</td>\n",
       "      <td>126.089290</td>\n",
       "      <td>9.816</td>\n",
       "      <td>A</td>\n",
       "      <td>158114</td>\n",
       "    </tr>\n",
       "    <tr>\n",
       "      <th>339496</th>\n",
       "      <td>12</td>\n",
       "      <td>81</td>\n",
       "      <td>7444.03</td>\n",
       "      <td>0</td>\n",
       "      <td>48.45</td>\n",
       "      <td>3.530</td>\n",
       "      <td>128.130000</td>\n",
       "      <td>14.021</td>\n",
       "      <td>B</td>\n",
       "      <td>112238</td>\n",
       "    </tr>\n",
       "    <tr>\n",
       "      <th>339497</th>\n",
       "      <td>37</td>\n",
       "      <td>8</td>\n",
       "      <td>17543.67</td>\n",
       "      <td>0</td>\n",
       "      <td>77.17</td>\n",
       "      <td>3.749</td>\n",
       "      <td>220.354503</td>\n",
       "      <td>6.989</td>\n",
       "      <td>C</td>\n",
       "      <td>39910</td>\n",
       "    </tr>\n",
       "    <tr>\n",
       "      <th>339498</th>\n",
       "      <td>29</td>\n",
       "      <td>98</td>\n",
       "      <td>16.50</td>\n",
       "      <td>0</td>\n",
       "      <td>31.96</td>\n",
       "      <td>2.747</td>\n",
       "      <td>131.637000</td>\n",
       "      <td>10.064</td>\n",
       "      <td>B</td>\n",
       "      <td>93638</td>\n",
       "    </tr>\n",
       "    <tr>\n",
       "      <th>339499</th>\n",
       "      <td>31</td>\n",
       "      <td>83</td>\n",
       "      <td>7200.99</td>\n",
       "      <td>0</td>\n",
       "      <td>82.57</td>\n",
       "      <td>2.577</td>\n",
       "      <td>211.188693</td>\n",
       "      <td>8.099</td>\n",
       "      <td>A</td>\n",
       "      <td>203750</td>\n",
       "    </tr>\n",
       "  </tbody>\n",
       "</table>\n",
       "</div>"
      ],
      "text/plain": [
       "        StoreID  DeptID     Sales  Holiday  Temperature   Fuel         CPI  \\\n",
       "339495       34      94  32266.45        0        72.87  2.621  126.089290   \n",
       "339496       12      81   7444.03        0        48.45  3.530  128.130000   \n",
       "339497       37       8  17543.67        0        77.17  3.749  220.354503   \n",
       "339498       29      98     16.50        0        31.96  2.747  131.637000   \n",
       "339499       31      83   7200.99        0        82.57  2.577  211.188693   \n",
       "\n",
       "        Unemployment Type    Size  \n",
       "339495         9.816    A  158114  \n",
       "339496        14.021    B  112238  \n",
       "339497         6.989    C   39910  \n",
       "339498        10.064    B   93638  \n",
       "339499         8.099    A  203750  "
      ]
     },
     "execution_count": 4,
     "metadata": {},
     "output_type": "execute_result"
    }
   ],
   "source": [
    "data.tail()"
   ]
  },
  {
   "cell_type": "markdown",
   "metadata": {},
   "source": [
    "# Exploratory data analysis"
   ]
  },
  {
   "cell_type": "code",
   "execution_count": 5,
   "metadata": {},
   "outputs": [
    {
     "name": "stdout",
     "output_type": "stream",
     "text": [
      "<class 'pandas.core.frame.DataFrame'>\n",
      "RangeIndex: 339500 entries, 0 to 339499\n",
      "Data columns (total 10 columns):\n",
      "StoreID         339500 non-null int64\n",
      "DeptID          339500 non-null int64\n",
      "Sales           339500 non-null float64\n",
      "Holiday         339500 non-null int64\n",
      "Temperature     339500 non-null float64\n",
      "Fuel            339500 non-null float64\n",
      "CPI             339500 non-null float64\n",
      "Unemployment    339500 non-null float64\n",
      "Type            339500 non-null object\n",
      "Size            339500 non-null int64\n",
      "dtypes: float64(5), int64(4), object(1)\n",
      "memory usage: 25.9+ MB\n"
     ]
    }
   ],
   "source": [
    "data.info()"
   ]
  },
  {
   "cell_type": "code",
   "execution_count": 6,
   "metadata": {},
   "outputs": [
    {
     "data": {
      "text/html": [
       "<div>\n",
       "<style scoped>\n",
       "    .dataframe tbody tr th:only-of-type {\n",
       "        vertical-align: middle;\n",
       "    }\n",
       "\n",
       "    .dataframe tbody tr th {\n",
       "        vertical-align: top;\n",
       "    }\n",
       "\n",
       "    .dataframe thead th {\n",
       "        text-align: right;\n",
       "    }\n",
       "</style>\n",
       "<table border=\"1\" class=\"dataframe\">\n",
       "  <thead>\n",
       "    <tr style=\"text-align: right;\">\n",
       "      <th></th>\n",
       "      <th>StoreID</th>\n",
       "      <th>DeptID</th>\n",
       "      <th>Sales</th>\n",
       "      <th>Holiday</th>\n",
       "      <th>Temperature</th>\n",
       "      <th>Fuel</th>\n",
       "      <th>CPI</th>\n",
       "      <th>Unemployment</th>\n",
       "      <th>Size</th>\n",
       "    </tr>\n",
       "  </thead>\n",
       "  <tbody>\n",
       "    <tr>\n",
       "      <th>count</th>\n",
       "      <td>339500.000000</td>\n",
       "      <td>339500.000000</td>\n",
       "      <td>339500.000000</td>\n",
       "      <td>339500.000000</td>\n",
       "      <td>339500.000000</td>\n",
       "      <td>339500.000000</td>\n",
       "      <td>339500.000000</td>\n",
       "      <td>339500.000000</td>\n",
       "      <td>339500.000000</td>\n",
       "    </tr>\n",
       "    <tr>\n",
       "      <th>mean</th>\n",
       "      <td>22.191638</td>\n",
       "      <td>44.260280</td>\n",
       "      <td>16001.980761</td>\n",
       "      <td>0.070412</td>\n",
       "      <td>60.055135</td>\n",
       "      <td>3.360916</td>\n",
       "      <td>171.123530</td>\n",
       "      <td>7.959892</td>\n",
       "      <td>136697.851234</td>\n",
       "    </tr>\n",
       "    <tr>\n",
       "      <th>std</th>\n",
       "      <td>12.781567</td>\n",
       "      <td>30.483967</td>\n",
       "      <td>22774.966766</td>\n",
       "      <td>0.255841</td>\n",
       "      <td>18.453098</td>\n",
       "      <td>0.458574</td>\n",
       "      <td>39.158082</td>\n",
       "      <td>1.862687</td>\n",
       "      <td>60955.945168</td>\n",
       "    </tr>\n",
       "    <tr>\n",
       "      <th>min</th>\n",
       "      <td>1.000000</td>\n",
       "      <td>1.000000</td>\n",
       "      <td>-4988.940000</td>\n",
       "      <td>0.000000</td>\n",
       "      <td>-2.060000</td>\n",
       "      <td>2.472000</td>\n",
       "      <td>126.064000</td>\n",
       "      <td>3.879000</td>\n",
       "      <td>34875.000000</td>\n",
       "    </tr>\n",
       "    <tr>\n",
       "      <th>25%</th>\n",
       "      <td>11.000000</td>\n",
       "      <td>18.000000</td>\n",
       "      <td>2085.147500</td>\n",
       "      <td>0.000000</td>\n",
       "      <td>46.660000</td>\n",
       "      <td>2.933000</td>\n",
       "      <td>132.022667</td>\n",
       "      <td>6.891000</td>\n",
       "      <td>93638.000000</td>\n",
       "    </tr>\n",
       "    <tr>\n",
       "      <th>50%</th>\n",
       "      <td>22.000000</td>\n",
       "      <td>37.000000</td>\n",
       "      <td>7622.250000</td>\n",
       "      <td>0.000000</td>\n",
       "      <td>62.060000</td>\n",
       "      <td>3.452000</td>\n",
       "      <td>182.238988</td>\n",
       "      <td>7.866000</td>\n",
       "      <td>140167.000000</td>\n",
       "    </tr>\n",
       "    <tr>\n",
       "      <th>75%</th>\n",
       "      <td>33.000000</td>\n",
       "      <td>74.000000</td>\n",
       "      <td>20214.957500</td>\n",
       "      <td>0.000000</td>\n",
       "      <td>74.240000</td>\n",
       "      <td>3.738000</td>\n",
       "      <td>212.403576</td>\n",
       "      <td>8.567000</td>\n",
       "      <td>202505.000000</td>\n",
       "    </tr>\n",
       "    <tr>\n",
       "      <th>max</th>\n",
       "      <td>45.000000</td>\n",
       "      <td>99.000000</td>\n",
       "      <td>693099.360000</td>\n",
       "      <td>1.000000</td>\n",
       "      <td>100.140000</td>\n",
       "      <td>4.468000</td>\n",
       "      <td>227.232807</td>\n",
       "      <td>14.313000</td>\n",
       "      <td>219622.000000</td>\n",
       "    </tr>\n",
       "  </tbody>\n",
       "</table>\n",
       "</div>"
      ],
      "text/plain": [
       "             StoreID         DeptID          Sales        Holiday  \\\n",
       "count  339500.000000  339500.000000  339500.000000  339500.000000   \n",
       "mean       22.191638      44.260280   16001.980761       0.070412   \n",
       "std        12.781567      30.483967   22774.966766       0.255841   \n",
       "min         1.000000       1.000000   -4988.940000       0.000000   \n",
       "25%        11.000000      18.000000    2085.147500       0.000000   \n",
       "50%        22.000000      37.000000    7622.250000       0.000000   \n",
       "75%        33.000000      74.000000   20214.957500       0.000000   \n",
       "max        45.000000      99.000000  693099.360000       1.000000   \n",
       "\n",
       "         Temperature           Fuel            CPI   Unemployment  \\\n",
       "count  339500.000000  339500.000000  339500.000000  339500.000000   \n",
       "mean       60.055135       3.360916     171.123530       7.959892   \n",
       "std        18.453098       0.458574      39.158082       1.862687   \n",
       "min        -2.060000       2.472000     126.064000       3.879000   \n",
       "25%        46.660000       2.933000     132.022667       6.891000   \n",
       "50%        62.060000       3.452000     182.238988       7.866000   \n",
       "75%        74.240000       3.738000     212.403576       8.567000   \n",
       "max       100.140000       4.468000     227.232807      14.313000   \n",
       "\n",
       "                Size  \n",
       "count  339500.000000  \n",
       "mean   136697.851234  \n",
       "std     60955.945168  \n",
       "min     34875.000000  \n",
       "25%     93638.000000  \n",
       "50%    140167.000000  \n",
       "75%    202505.000000  \n",
       "max    219622.000000  "
      ]
     },
     "execution_count": 6,
     "metadata": {},
     "output_type": "execute_result"
    }
   ],
   "source": [
    "data.describe()"
   ]
  },
  {
   "cell_type": "markdown",
   "metadata": {},
   "source": [
    "# Data Preprocessing"
   ]
  },
  {
   "cell_type": "markdown",
   "metadata": {},
   "source": [
    "## Missing values"
   ]
  },
  {
   "cell_type": "code",
   "execution_count": 7,
   "metadata": {},
   "outputs": [
    {
     "name": "stdout",
     "output_type": "stream",
     "text": [
      "StoreID         False\n",
      "DeptID          False\n",
      "Sales           False\n",
      "Holiday         False\n",
      "Temperature     False\n",
      "Fuel            False\n",
      "CPI             False\n",
      "Unemployment    False\n",
      "Type            False\n",
      "Size            False\n",
      "dtype: bool\n"
     ]
    }
   ],
   "source": [
    "print(data.isnull().any())"
   ]
  },
  {
   "cell_type": "markdown",
   "metadata": {},
   "source": [
    "Good to see, we don't have missing values!"
   ]
  },
  {
   "cell_type": "markdown",
   "metadata": {},
   "source": [
    "## Bad sales values"
   ]
  },
  {
   "cell_type": "code",
   "execution_count": 8,
   "metadata": {},
   "outputs": [],
   "source": [
    "index = data[ (data['Sales'] <= 0 )].index"
   ]
  },
  {
   "cell_type": "code",
   "execution_count": 9,
   "metadata": {},
   "outputs": [
    {
     "data": {
      "text/plain": [
       "Int64Index([   353,    579,    582,    619,    658,    856,   1041,   1179,\n",
       "              1437,   1547,\n",
       "            ...\n",
       "            336572, 337253, 337667, 338283, 338388, 338752, 338817, 339166,\n",
       "            339231, 339459],\n",
       "           dtype='int64', length=1112)"
      ]
     },
     "execution_count": 9,
     "metadata": {},
     "output_type": "execute_result"
    }
   ],
   "source": [
    "index"
   ]
  },
  {
   "cell_type": "markdown",
   "metadata": {},
   "source": [
    "Ok, let's remove few bad sales values."
   ]
  },
  {
   "cell_type": "code",
   "execution_count": 10,
   "metadata": {},
   "outputs": [],
   "source": [
    "data.drop(index, inplace=True)"
   ]
  },
  {
   "cell_type": "code",
   "execution_count": 11,
   "metadata": {},
   "outputs": [
    {
     "data": {
      "text/html": [
       "<div>\n",
       "<style scoped>\n",
       "    .dataframe tbody tr th:only-of-type {\n",
       "        vertical-align: middle;\n",
       "    }\n",
       "\n",
       "    .dataframe tbody tr th {\n",
       "        vertical-align: top;\n",
       "    }\n",
       "\n",
       "    .dataframe thead th {\n",
       "        text-align: right;\n",
       "    }\n",
       "</style>\n",
       "<table border=\"1\" class=\"dataframe\">\n",
       "  <thead>\n",
       "    <tr style=\"text-align: right;\">\n",
       "      <th></th>\n",
       "      <th>StoreID</th>\n",
       "      <th>DeptID</th>\n",
       "      <th>Sales</th>\n",
       "      <th>Holiday</th>\n",
       "      <th>Temperature</th>\n",
       "      <th>Fuel</th>\n",
       "      <th>CPI</th>\n",
       "      <th>Unemployment</th>\n",
       "      <th>Type</th>\n",
       "      <th>Size</th>\n",
       "    </tr>\n",
       "  </thead>\n",
       "  <tbody>\n",
       "    <tr>\n",
       "      <th>0</th>\n",
       "      <td>9</td>\n",
       "      <td>42</td>\n",
       "      <td>3687.22</td>\n",
       "      <td>0</td>\n",
       "      <td>63.96</td>\n",
       "      <td>3.372</td>\n",
       "      <td>221.315956</td>\n",
       "      <td>6.054</td>\n",
       "      <td>B</td>\n",
       "      <td>125833</td>\n",
       "    </tr>\n",
       "    <tr>\n",
       "      <th>1</th>\n",
       "      <td>2</td>\n",
       "      <td>33</td>\n",
       "      <td>16810.49</td>\n",
       "      <td>0</td>\n",
       "      <td>88.70</td>\n",
       "      <td>2.664</td>\n",
       "      <td>211.259659</td>\n",
       "      <td>8.099</td>\n",
       "      <td>A</td>\n",
       "      <td>202307</td>\n",
       "    </tr>\n",
       "    <tr>\n",
       "      <th>2</th>\n",
       "      <td>40</td>\n",
       "      <td>51</td>\n",
       "      <td>4.16</td>\n",
       "      <td>0</td>\n",
       "      <td>67.45</td>\n",
       "      <td>3.898</td>\n",
       "      <td>135.963935</td>\n",
       "      <td>4.584</td>\n",
       "      <td>A</td>\n",
       "      <td>155083</td>\n",
       "    </tr>\n",
       "    <tr>\n",
       "      <th>3</th>\n",
       "      <td>34</td>\n",
       "      <td>42</td>\n",
       "      <td>4940.41</td>\n",
       "      <td>0</td>\n",
       "      <td>73.80</td>\n",
       "      <td>2.640</td>\n",
       "      <td>126.085452</td>\n",
       "      <td>9.816</td>\n",
       "      <td>A</td>\n",
       "      <td>158114</td>\n",
       "    </tr>\n",
       "    <tr>\n",
       "      <th>4</th>\n",
       "      <td>4</td>\n",
       "      <td>48</td>\n",
       "      <td>3834.00</td>\n",
       "      <td>0</td>\n",
       "      <td>68.97</td>\n",
       "      <td>3.721</td>\n",
       "      <td>131.010333</td>\n",
       "      <td>4.077</td>\n",
       "      <td>A</td>\n",
       "      <td>205863</td>\n",
       "    </tr>\n",
       "  </tbody>\n",
       "</table>\n",
       "</div>"
      ],
      "text/plain": [
       "   StoreID  DeptID     Sales  Holiday  Temperature   Fuel         CPI  \\\n",
       "0        9      42   3687.22        0        63.96  3.372  221.315956   \n",
       "1        2      33  16810.49        0        88.70  2.664  211.259659   \n",
       "2       40      51      4.16        0        67.45  3.898  135.963935   \n",
       "3       34      42   4940.41        0        73.80  2.640  126.085452   \n",
       "4        4      48   3834.00        0        68.97  3.721  131.010333   \n",
       "\n",
       "   Unemployment Type    Size  \n",
       "0         6.054    B  125833  \n",
       "1         8.099    A  202307  \n",
       "2         4.584    A  155083  \n",
       "3         9.816    A  158114  \n",
       "4         4.077    A  205863  "
      ]
     },
     "execution_count": 11,
     "metadata": {},
     "output_type": "execute_result"
    }
   ],
   "source": [
    "data.head()"
   ]
  },
  {
   "cell_type": "markdown",
   "metadata": {},
   "source": [
    "# Feature engineering"
   ]
  },
  {
   "cell_type": "markdown",
   "metadata": {},
   "source": [
    "### Label encoding"
   ]
  },
  {
   "cell_type": "code",
   "execution_count": 12,
   "metadata": {},
   "outputs": [],
   "source": [
    "# Create the Labelencoder object\n",
    "le = preprocessing.LabelEncoder()\n",
    "\n",
    "# Convert the categorical columns into numeric\n",
    "data['Type'] = le.fit_transform(data['Type'])"
   ]
  },
  {
   "cell_type": "code",
   "execution_count": 13,
   "metadata": {},
   "outputs": [
    {
     "data": {
      "text/html": [
       "<div>\n",
       "<style scoped>\n",
       "    .dataframe tbody tr th:only-of-type {\n",
       "        vertical-align: middle;\n",
       "    }\n",
       "\n",
       "    .dataframe tbody tr th {\n",
       "        vertical-align: top;\n",
       "    }\n",
       "\n",
       "    .dataframe thead th {\n",
       "        text-align: right;\n",
       "    }\n",
       "</style>\n",
       "<table border=\"1\" class=\"dataframe\">\n",
       "  <thead>\n",
       "    <tr style=\"text-align: right;\">\n",
       "      <th></th>\n",
       "      <th>StoreID</th>\n",
       "      <th>DeptID</th>\n",
       "      <th>Sales</th>\n",
       "      <th>Holiday</th>\n",
       "      <th>Temperature</th>\n",
       "      <th>Fuel</th>\n",
       "      <th>CPI</th>\n",
       "      <th>Unemployment</th>\n",
       "      <th>Type</th>\n",
       "      <th>Size</th>\n",
       "    </tr>\n",
       "  </thead>\n",
       "  <tbody>\n",
       "    <tr>\n",
       "      <th>0</th>\n",
       "      <td>9</td>\n",
       "      <td>42</td>\n",
       "      <td>3687.22</td>\n",
       "      <td>0</td>\n",
       "      <td>63.96</td>\n",
       "      <td>3.372</td>\n",
       "      <td>221.315956</td>\n",
       "      <td>6.054</td>\n",
       "      <td>1</td>\n",
       "      <td>125833</td>\n",
       "    </tr>\n",
       "    <tr>\n",
       "      <th>1</th>\n",
       "      <td>2</td>\n",
       "      <td>33</td>\n",
       "      <td>16810.49</td>\n",
       "      <td>0</td>\n",
       "      <td>88.70</td>\n",
       "      <td>2.664</td>\n",
       "      <td>211.259659</td>\n",
       "      <td>8.099</td>\n",
       "      <td>0</td>\n",
       "      <td>202307</td>\n",
       "    </tr>\n",
       "    <tr>\n",
       "      <th>2</th>\n",
       "      <td>40</td>\n",
       "      <td>51</td>\n",
       "      <td>4.16</td>\n",
       "      <td>0</td>\n",
       "      <td>67.45</td>\n",
       "      <td>3.898</td>\n",
       "      <td>135.963935</td>\n",
       "      <td>4.584</td>\n",
       "      <td>0</td>\n",
       "      <td>155083</td>\n",
       "    </tr>\n",
       "    <tr>\n",
       "      <th>3</th>\n",
       "      <td>34</td>\n",
       "      <td>42</td>\n",
       "      <td>4940.41</td>\n",
       "      <td>0</td>\n",
       "      <td>73.80</td>\n",
       "      <td>2.640</td>\n",
       "      <td>126.085452</td>\n",
       "      <td>9.816</td>\n",
       "      <td>0</td>\n",
       "      <td>158114</td>\n",
       "    </tr>\n",
       "    <tr>\n",
       "      <th>4</th>\n",
       "      <td>4</td>\n",
       "      <td>48</td>\n",
       "      <td>3834.00</td>\n",
       "      <td>0</td>\n",
       "      <td>68.97</td>\n",
       "      <td>3.721</td>\n",
       "      <td>131.010333</td>\n",
       "      <td>4.077</td>\n",
       "      <td>0</td>\n",
       "      <td>205863</td>\n",
       "    </tr>\n",
       "  </tbody>\n",
       "</table>\n",
       "</div>"
      ],
      "text/plain": [
       "   StoreID  DeptID     Sales  Holiday  Temperature   Fuel         CPI  \\\n",
       "0        9      42   3687.22        0        63.96  3.372  221.315956   \n",
       "1        2      33  16810.49        0        88.70  2.664  211.259659   \n",
       "2       40      51      4.16        0        67.45  3.898  135.963935   \n",
       "3       34      42   4940.41        0        73.80  2.640  126.085452   \n",
       "4        4      48   3834.00        0        68.97  3.721  131.010333   \n",
       "\n",
       "   Unemployment  Type    Size  \n",
       "0         6.054     1  125833  \n",
       "1         8.099     0  202307  \n",
       "2         4.584     0  155083  \n",
       "3         9.816     0  158114  \n",
       "4         4.077     0  205863  "
      ]
     },
     "execution_count": 13,
     "metadata": {},
     "output_type": "execute_result"
    }
   ],
   "source": [
    "data.head()"
   ]
  },
  {
   "cell_type": "markdown",
   "metadata": {},
   "source": [
    "Great, Type strings are now converted to numeric values."
   ]
  },
  {
   "cell_type": "markdown",
   "metadata": {},
   "source": [
    "# Correlation analysis"
   ]
  },
  {
   "cell_type": "code",
   "execution_count": 14,
   "metadata": {},
   "outputs": [],
   "source": [
    "%matplotlib inline  "
   ]
  },
  {
   "cell_type": "code",
   "execution_count": 15,
   "metadata": {},
   "outputs": [
    {
     "data": {
      "image/png": "[encoded data removed]",
      "text/plain": [
       "<Figure size 864x720 with 2 Axes>"
      ]
     },
     "metadata": {
      "needs_background": "light"
     },
     "output_type": "display_data"
    }
   ],
   "source": [
    "correlation = np.abs(data.corr(method='pearson'))\n",
    "columns = correlation.nlargest(10, 'Sales').index\n",
    "\n",
    "fig=plt.figure(figsize=(12, 10))\n",
    "correlation_map = np.corrcoef(data[columns].values.T)\n",
    "sns.set(font_scale=1.0)\n",
    "heatmap = sns.heatmap(correlation_map, cbar=True, annot=True, square=True, fmt='.2f', yticklabels=columns.values, xticklabels=columns.values)"
   ]
  },
  {
   "cell_type": "markdown",
   "metadata": {},
   "source": [
    "# Data Preparation"
   ]
  },
  {
   "cell_type": "code",
   "execution_count": 16,
   "metadata": {},
   "outputs": [],
   "source": [
    "# Log scale\n",
    "data['Sales'] = np.log(data['Sales'])\n",
    "\n",
    "# X and Y data\n",
    "X = data[columns]\n",
    "Y = X['Sales'].values\n",
    "X = X.drop('Sales', axis = 1).values\n",
    "\n",
    "# Train test split\n",
    "X_train, X_test, Y_train, Y_test = train_test_split (X, Y, test_size = 0.30, random_state=42)"
   ]
  },
  {
   "cell_type": "markdown",
   "metadata": {},
   "source": [
    "# Baseline algorithm selection through cross-validation"
   ]
  },
  {
   "cell_type": "code",
   "execution_count": 17,
   "metadata": {},
   "outputs": [
    {
     "name": "stdout",
     "output_type": "stream",
     "text": [
      "ScaledLR: -3.744593 (0.051674)\n",
      "ScaledLASSO: -4.203533 (0.061291)\n",
      "ScaledEN: -4.084721 (0.060362)\n",
      "ScaledRF: -0.225126 (0.008389)\n",
      "ScaledCART: -0.360067 (0.015655)\n",
      "ScaledGBM: -1.426808 (0.044298)\n"
     ]
    }
   ],
   "source": [
    "pipelines = []\n",
    "pipelines.append(('ScaledLR', Pipeline([('Scaler', StandardScaler()),('LR',LinearRegression())])))\n",
    "pipelines.append(('ScaledLASSO', Pipeline([('Scaler', StandardScaler()),('LASSO', Lasso())])))\n",
    "pipelines.append(('ScaledEN', Pipeline([('Scaler', StandardScaler()),('EN', ElasticNet())])))\n",
    "pipelines.append(('ScaledRF', Pipeline([('Scaler', StandardScaler()),('RF', RandomForestRegressor(n_estimators=10))])))\n",
    "pipelines.append(('ScaledCART', Pipeline([('Scaler', StandardScaler()),('CART', DecisionTreeRegressor())])))\n",
    "pipelines.append(('ScaledGBM', Pipeline([('Scaler', StandardScaler()),('GBM', GradientBoostingRegressor())])))\n",
    "\n",
    "results = []\n",
    "names = []\n",
    "for name, model in pipelines:\n",
    "    kfold = KFold(n_splits=10, random_state=21)\n",
    "    cv_results = cross_val_score(model, X_train, Y_train, cv=kfold, scoring='neg_mean_squared_error')\n",
    "    results.append(cv_results)\n",
    "    names.append(name)\n",
    "    msg = \"%s: %f (%f)\" % (name, cv_results.mean(), cv_results.std())\n",
    "    print(msg)"
   ]
  },
  {
   "cell_type": "markdown",
   "metadata": {},
   "source": [
    "Looks like random forest performed best among the algorithms! So, we will proceed with random forest, and tune the hyperparameters!"
   ]
  },
  {
   "cell_type": "markdown",
   "metadata": {},
   "source": [
    "# Hyperparameter selection for random forest"
   ]
  },
  {
   "cell_type": "code",
   "execution_count": 20,
   "metadata": {},
   "outputs": [
    {
     "name": "stdout",
     "output_type": "stream",
     "text": [
      "-0.249486 (0.010609) with: {'n_estimators': 5}\n",
      "-0.227415 (0.009734) with: {'n_estimators': 10}\n",
      "-0.216504 (0.009657) with: {'n_estimators': 20}\n",
      "-0.212385 (0.009103) with: {'n_estimators': 30}\n",
      "Best: -0.212385 using {'n_estimators': 30}\n"
     ]
    }
   ],
   "source": [
    "scaler = StandardScaler().fit(X_train)\n",
    "rescaledX = scaler.transform(X_train)\n",
    "param_grid = dict(n_estimators=np.array([5,10,20,30]))\n",
    "model = RandomForestRegressor(random_state=21)\n",
    "kfold = KFold(n_splits=10, random_state=21)\n",
    "grid = GridSearchCV(estimator=model, param_grid=param_grid, scoring='neg_mean_squared_error', cv=kfold)\n",
    "grid_result = grid.fit(rescaledX, Y_train)\n",
    "\n",
    "means = grid_result.cv_results_['mean_test_score']\n",
    "stds = grid_result.cv_results_['std_test_score']\n",
    "params = grid_result.cv_results_['params']\n",
    "for mean, stdev, param in zip(means, stds, params):\n",
    "    print(\"%f (%f) with: %r\" % (mean, stdev, param))\n",
    "\n",
    "print(\"Best: %f using %s\" % (grid_result.best_score_, grid_result.best_params_))"
   ]
  },
  {
   "cell_type": "markdown",
   "metadata": {},
   "source": [
    "# Final model training"
   ]
  },
  {
   "cell_type": "code",
   "execution_count": 21,
   "metadata": {},
   "outputs": [
    {
     "data": {
      "text/plain": [
       "RandomForestRegressor(bootstrap=True, criterion='mse', max_depth=None,\n",
       "           max_features='auto', max_leaf_nodes=None,\n",
       "           min_impurity_decrease=0.0, min_impurity_split=None,\n",
       "           min_samples_leaf=1, min_samples_split=2,\n",
       "           min_weight_fraction_leaf=0.0, n_estimators=30, n_jobs=None,\n",
       "           oob_score=False, random_state=21, verbose=0, warm_start=False)"
      ]
     },
     "execution_count": 21,
     "metadata": {},
     "output_type": "execute_result"
    }
   ],
   "source": [
    "scaler = StandardScaler().fit(X_train)\n",
    "rescaled_X_train = scaler.transform(X_train)\n",
    "model = RandomForestRegressor(random_state=21, n_estimators=30)\n",
    "model.fit(rescaled_X_train, Y_train)"
   ]
  },
  {
   "cell_type": "markdown",
   "metadata": {},
   "source": [
    "# Validate model on test dataset"
   ]
  },
  {
   "cell_type": "code",
   "execution_count": 22,
   "metadata": {},
   "outputs": [],
   "source": [
    "# Transform the validation dataset\n",
    "rescaled_X_test = scaler.transform(X_test)\n",
    "\n",
    "# Predictions\n",
    "predictions = model.predict(rescaled_X_test)\n",
    "\n",
    "# Actual test and predictions from log scaled data\n",
    "actual_y_test = np.exp(Y_test)\n",
    "actual_predicted = np.exp(predictions)"
   ]
  },
  {
   "cell_type": "markdown",
   "metadata": {},
   "source": [
    "# Visualization"
   ]
  },
  {
   "cell_type": "code",
   "execution_count": 32,
   "metadata": {},
   "outputs": [
    {
     "data": {
      "text/plain": [
       "(0, 130000)"
      ]
     },
     "execution_count": 32,
     "metadata": {},
     "output_type": "execute_result"
    },
    {
     "data": {
      "image/png": "[encoded data removed]",
      "text/plain": [
       "<Figure size 864x720 with 1 Axes>"
      ]
     },
     "metadata": {},
     "output_type": "display_data"
    }
   ],
   "source": [
    "fig=plt.figure(figsize=(12, 10))\n",
    "plt.scatter(actual_y_test, actual_predicted)\n",
    "plt.xlabel(\"Actual sales values on test set\")\n",
    "plt.ylabel(\"Predicted sales values on test set\")\n",
    "plt.xlim([0, 130000])\n",
    "plt.ylim([0, 130000])"
   ]
  },
  {
   "cell_type": "markdown",
   "metadata": {},
   "source": [
    "# Final scores on test dataset"
   ]
  },
  {
   "cell_type": "code",
   "execution_count": 36,
   "metadata": {},
   "outputs": [
    {
     "name": "stdout",
     "output_type": "stream",
     "text": [
      "Correlation=  0.9635713829639839\n",
      "RMSE=  6130.135135454318\n"
     ]
    }
   ],
   "source": [
    "print(\"Correlation= \", np.corrcoef(actual_y_test, actual_predicted)[0,1])\n",
    "print (\"RMSE= \", np.sqrt(mean_squared_error(actual_y_test, actual_predicted)))"
   ]
  },
  {
   "cell_type": "markdown",
   "metadata": {},
   "source": [
    "### We have achieved very good correlation and RMSE metrics through random forest!"
   ]
  }
 ],
 "metadata": {
  "kernelspec": {
   "display_name": "Python 3",
   "language": "python",
   "name": "python3"
  },
  "language_info": {
   "codemirror_mode": {
    "name": "ipython",
    "version": 3
   },
   "file_extension": ".py",
   "mimetype": "text/x-python",
   "name": "python",
   "nbconvert_exporter": "python",
   "pygments_lexer": "ipython3",
   "version": "3.6.8"
  }
 },
 "nbformat": 4,
 "nbformat_minor": 2
}
